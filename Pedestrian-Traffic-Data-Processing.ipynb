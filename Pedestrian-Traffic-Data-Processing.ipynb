{
 "cells": [
  {
   "cell_type": "markdown",
   "id": "b20e5649-c1d0-4056-bba8-95d91e24d2f7",
   "metadata": {},
   "source": [
    "# **Data Processing Techniques on Pedestrian Traffic Dataset**\r\n"
   ]
  },
  {
   "cell_type": "markdown",
   "id": "c978313d-b13b-442a-95a1-30b25a98ee69",
   "metadata": {},
   "source": [
    "> This tutorial demonstrates how to apply common data processing techniques to the Pedestrian Traffic dataset from the UCI Machine Learning Repository. It focuses on handling missing values, detecting and treating outliers, and generating descriptive statistics."
   ]
  },
  {
   "cell_type": "markdown",
   "id": "d1567eec-1536-4a82-b2b8-0c0b7f5a17ed",
   "metadata": {},
   "source": [
    "## **Prerequisites**\n",
    "Before you begin, ensure you have the following:\n",
    "\n",
    "- Python: Make sure you have Python installed on your machine.\n",
    "- Jupyter Notebook or Python Environment: You can use Jupyter Notebook, Google Colab, or any Python IDE.\n",
    "- Pandas Library: This library is required for data manipulation and analysis.\n",
    "  \n",
    "You can install Pandas using pip if it's not already installed:"
   ]
  },
  {
   "cell_type": "code",
   "execution_count": null,
   "id": "9951b127-89d3-46c3-a62c-b3e146d6fac7",
   "metadata": {},
   "outputs": [],
   "source": [
    "pip install pandas"
   ]
  },
  {
   "cell_type": "markdown",
   "id": "c8ca0d73-24a9-45e7-a604-cff404e402c5",
   "metadata": {},
   "source": [
    "# Step-by-Step Guide"
   ]
  },
  {
   "cell_type": "markdown",
   "id": "b3733956-51f0-4cd0-81a2-a35ee002b584",
   "metadata": {},
   "source": [
    "## **Step 1:** **Loading the Dataset**"
   ]
  },
  {
   "cell_type": "markdown",
   "id": "967b0d23-a749-4ca5-beb6-2950ebcb6af5",
   "metadata": {},
   "source": [
    "### 1. Import Pandas Library"
   ]
  },
  {
   "cell_type": "code",
   "execution_count": null,
   "id": "9b87436c-71ed-4f1d-b652-24e7fff5e44b",
   "metadata": {},
   "outputs": [],
   "source": [
    "import pandas as pd"
   ]
  },
  {
   "cell_type": "markdown",
   "id": "6f690556-91aa-4b62-9845-39dde7b42868",
   "metadata": {},
   "source": [
    "- Imports the Pandas library for data manipulation."
   ]
  },
  {
   "cell_type": "markdown",
   "id": "473d4b89-05c3-489b-9957-37821f9ae817",
   "metadata": {},
   "source": [
    "### 2. Load the Dataset"
   ]
  },
  {
   "cell_type": "code",
   "execution_count": null,
   "id": "3f101d37-bae5-457c-855a-3f87c0dacd2a",
   "metadata": {},
   "outputs": [],
   "source": [
    "url = \"https://archive.ics.uci.edu/static/public/536/data.csv\"\n",
    "data = pd.read_csv(url)"
   ]
  },
  {
   "cell_type": "markdown",
   "id": "da35837d-2071-4573-a91e-39bfa13b3049",
   "metadata": {},
   "source": [
    "- Defines the URL of the dataset and loads it into a DataFrame called data."
   ]
  },
  {
   "cell_type": "markdown",
   "id": "2d35f75e-2964-47f4-89a1-925251d3dec0",
   "metadata": {},
   "source": [
    "### 3. Display the First Few Rows"
   ]
  },
  {
   "cell_type": "code",
   "execution_count": null,
   "id": "ed98b155-3c33-491a-85f4-6ddde24492d2",
   "metadata": {},
   "outputs": [],
   "source": [
    "print(data.head())"
   ]
  },
  {
   "cell_type": "markdown",
   "id": "bcd0c7c7-48f4-461a-90cd-41914047d040",
   "metadata": {},
   "source": [
    "- Outputs the first five rows of the dataset to get an overview."
   ]
  },
  {
   "cell_type": "markdown",
   "id": "c9402194-4d42-419c-9677-71f233d4a152",
   "metadata": {},
   "source": [
    "## **Step 2: Handling Missing Values**"
   ]
  },
  {
   "cell_type": "markdown",
   "id": "16b23259-79a7-42eb-ba0f-73d79353173f",
   "metadata": {},
   "source": [
    "### 1. Check for Missing Values"
   ]
  },
  {
   "cell_type": "code",
   "execution_count": null,
   "id": "1a0b0a0d-521d-47d6-b5e8-cb399d98639c",
   "metadata": {},
   "outputs": [],
   "source": [
    "print(\"Missing Values in the Dataset:\")\n",
    "print(data.isnull().sum())"
   ]
  },
  {
   "cell_type": "markdown",
   "id": "c0e20963-499f-40d8-8bb3-a54b6a941d19",
   "metadata": {},
   "source": [
    "- Prints the count of missing values in each column of the dataset."
   ]
  },
  {
   "cell_type": "markdown",
   "id": "5224c27e-fbf9-4f6c-9588-3481c1a23c18",
   "metadata": {},
   "source": [
    "### 2. **Option 1:** Drop Rows with Missing Values"
   ]
  },
  {
   "cell_type": "code",
   "execution_count": null,
   "id": "c64841ab-abf0-474f-94a8-43218f2df6bd",
   "metadata": {},
   "outputs": [],
   "source": [
    "data_cleaned = data.dropna()"
   ]
  },
  {
   "cell_type": "markdown",
   "id": "75640464-88e0-4068-9e4f-4cf03e21649a",
   "metadata": {},
   "source": [
    "- Creates a new DataFrame data_cleaned that removes rows with missing values."
   ]
  },
  {
   "cell_type": "markdown",
   "id": "62481df7-0620-422c-975d-c5b295e0f70c",
   "metadata": {},
   "source": [
    "###  3. **Option 2:** Fill Missing Values"
   ]
  },
  {
   "cell_type": "code",
   "execution_count": null,
   "id": "2fec43e5-5ab4-49ff-b392-c5bbd965992f",
   "metadata": {},
   "outputs": [],
   "source": [
    "# data_cleaned = data.fillna(data.mean())"
   ]
  },
  {
   "cell_type": "markdown",
   "id": "8419cfba-b864-463a-b428-570608c29e91",
   "metadata": {},
   "source": [
    "- (Commented out) Fills missing values with the mean of their respective columns."
   ]
  },
  {
   "cell_type": "markdown",
   "id": "db25fd15-fbb9-4d0f-9832-ab52f75a8c33",
   "metadata": {},
   "source": [
    "### 4. Display Dataset Information After Cleaning. "
   ]
  },
  {
   "cell_type": "code",
   "execution_count": null,
   "id": "e8299233-f348-4662-9708-b0e88bdd40b6",
   "metadata": {},
   "outputs": [],
   "source": [
    "print(data_cleaned.info())"
   ]
  },
  {
   "cell_type": "markdown",
   "id": "df0c111c-9e76-4c26-9202-e1406aabb3a9",
   "metadata": {},
   "source": [
    "- Outputs information about the cleaned dataset."
   ]
  },
  {
   "cell_type": "markdown",
   "id": "c5454933-aae6-4f97-af04-fda7701c4a81",
   "metadata": {},
   "source": [
    "## **Step 3: Handling Outliers**"
   ]
  },
  {
   "cell_type": "markdown",
   "id": "0bac5cff-be1c-4176-8d46-9d71ba55c030",
   "metadata": {},
   "source": [
    "### 1. Define Function to Handle Outliers"
   ]
  },
  {
   "cell_type": "code",
   "execution_count": null,
   "id": "0be2f139-9a96-488f-857d-2d80b30dc940",
   "metadata": {},
   "outputs": [],
   "source": [
    "def handle_outliers(df, column):"
   ]
  },
  {
   "cell_type": "markdown",
   "id": "6221e4fe-53e9-48aa-9862-ebb50ed4af65",
   "metadata": {},
   "source": [
    "- Starts the definition of a function to detect and handle outliers."
   ]
  },
  {
   "cell_type": "markdown",
   "id": "357946f6-82da-4be8-80b1-9f88223a7d8f",
   "metadata": {},
   "source": [
    "### 2. Calculate Q1 and Q3"
   ]
  },
  {
   "cell_type": "code",
   "execution_count": null,
   "id": "c2585c48-b2cb-4150-acc6-3573c5d19e87",
   "metadata": {},
   "outputs": [],
   "source": [
    "Q1 = df[column].quantile(0.25)\n",
    "Q3 = df[column].quantile(0.75)\n",
    "IQR = Q3 - Q1"
   ]
  },
  {
   "cell_type": "markdown",
   "id": "bd136fd9-ff72-4b41-a821-c7caf7e52dad",
   "metadata": {},
   "source": [
    "- Calculates the first and third quartiles, then computes the Interquartile Range (IQR)."
   ]
  },
  {
   "cell_type": "markdown",
   "id": "85a0fb89-a728-4ec4-8dab-7b668bb8a55b",
   "metadata": {},
   "source": [
    "### 3. Define Outlier Bounds"
   ]
  },
  {
   "cell_type": "code",
   "execution_count": null,
   "id": "42f644ec-6ef9-47f3-830f-113448e256ae",
   "metadata": {},
   "outputs": [],
   "source": [
    "lower_bound = Q1 - 1.5 * IQR\n",
    "upper_bound = Q3 + 1.5 * IQR"
   ]
  },
  {
   "cell_type": "markdown",
   "id": "6959fd30-c3b2-41f2-b5d7-166ed903a39b",
   "metadata": {},
   "source": [
    "- Establishes the lower and upper bounds for detecting outliers."
   ]
  },
  {
   "cell_type": "markdown",
   "id": "d1d9a6fb-07cf-4b78-acb2-fc4fc6e6221e",
   "metadata": {},
   "source": [
    "### 4. Identify Outliers"
   ]
  },
  {
   "cell_type": "code",
   "execution_count": null,
   "id": "74e1e138-e612-4998-b4f5-37ff422d2033",
   "metadata": {},
   "outputs": [],
   "source": [
    "outliers = df[(df[column] < lower_bound) | (df[column] > upper_bound)]"
   ]
  },
  {
   "cell_type": "markdown",
   "id": "99f47ef0-745c-4074-aa81-ba2be0ad0834",
   "metadata": {},
   "source": [
    "- Identifies rows that fall outside the defined bounds."
   ]
  },
  {
   "cell_type": "markdown",
   "id": "585a2774-8ddf-4add-a97e-1d4a5589edbe",
   "metadata": {},
   "source": [
    "### 5. Remove Outliers"
   ]
  },
  {
   "cell_type": "code",
   "execution_count": null,
   "id": "4c47994b-1485-491a-9b05-2150dc262795",
   "metadata": {},
   "outputs": [],
   "source": [
    "df_cleaned = df[(df[column] >= lower_bound) & (df[column] <= upper_bound)]"
   ]
  },
  {
   "cell_type": "markdown",
   "id": "95738321-72f6-4e80-9c85-44a7811c24dc",
   "metadata": {},
   "source": [
    "- Creates a new DataFrame that excludes identified outliers."
   ]
  },
  {
   "cell_type": "markdown",
   "id": "d73b9351-d761-4f89-8577-d8aba416226f",
   "metadata": {},
   "source": [
    "### 6. Apply Function to Numerical Column"
   ]
  },
  {
   "cell_type": "code",
   "execution_count": null,
   "id": "8aa9d286-4c60-4f36-9eca-ead059e23f15",
   "metadata": {},
   "outputs": [],
   "source": [
    "if 'Speed' in data.columns:\n",
    "    data_cleaned = handle_outliers(data, 'Speed')"
   ]
  },
  {
   "cell_type": "markdown",
   "id": "93e3caa7-0b93-45e7-969a-30c3a3c62958",
   "metadata": {},
   "source": [
    "- Checks for the 'Speed' column and applies the outlier handling function."
   ]
  },
  {
   "cell_type": "markdown",
   "id": "8392024e-34e7-4227-9409-8756f45becba",
   "metadata": {},
   "source": [
    "### 7. Display Updated Dataset Information"
   ]
  },
  {
   "cell_type": "code",
   "execution_count": null,
   "id": "12613866-b8a7-4fdf-9808-79562a57b395",
   "metadata": {},
   "outputs": [],
   "source": [
    "print(data_cleaned.info())"
   ]
  },
  {
   "cell_type": "markdown",
   "id": "7e56184b-8596-4af0-90eb-eca8f22841a2",
   "metadata": {},
   "source": [
    "- Outputs information about the dataset after outlier handling."
   ]
  },
  {
   "cell_type": "markdown",
   "id": "a578a754-7467-434d-aedb-938eff14c278",
   "metadata": {},
   "source": [
    "### 8. Display Summary Statistics"
   ]
  },
  {
   "cell_type": "code",
   "execution_count": null,
   "id": "7eef8718-165c-47d8-8be3-9ce42fd920e1",
   "metadata": {},
   "outputs": [],
   "source": [
    "print(data_cleaned.describe())"
   ]
  },
  {
   "cell_type": "markdown",
   "id": "b197ab2c-3e1f-4f83-9f62-c31d6c39ee79",
   "metadata": {},
   "source": [
    "- Outputs summary statistics of the cleaned data."
   ]
  },
  {
   "cell_type": "markdown",
   "id": "e25fffb3-7a83-4f5d-ac1c-2611d27ebf00",
   "metadata": {},
   "source": [
    "## **Step 4: Generating Summary Statistics**"
   ]
  },
  {
   "cell_type": "markdown",
   "id": "019b68d1-870f-4ab0-8c84-20f1395a74fe",
   "metadata": {},
   "source": [
    "### 1. Display Summary Statistics of the Cleaned Data"
   ]
  },
  {
   "cell_type": "code",
   "execution_count": null,
   "id": "a0140e01-cea7-4fd3-8be6-97043f670bee",
   "metadata": {},
   "outputs": [],
   "source": [
    "print(data_cleaned.describe())"
   ]
  },
  {
   "cell_type": "markdown",
   "id": "0b3207c3-6a16-4f32-826d-01daf01bf2c8",
   "metadata": {},
   "source": [
    "- Provides statistical summaries like mean, median, and quartiles for numerical columns."
   ]
  },
  {
   "cell_type": "markdown",
   "id": "3564c6d3-a908-4ab3-a80c-d580dc5471ae",
   "metadata": {},
   "source": [
    "## **Step 5: Saving the Cleaned Dataset**"
   ]
  },
  {
   "cell_type": "markdown",
   "id": "2174629b-2866-4f8e-a2bc-64296336647d",
   "metadata": {},
   "source": [
    "###  1. Save Cleaned Dataset to CSV"
   ]
  },
  {
   "cell_type": "code",
   "execution_count": null,
   "id": "2ff05df1-6a58-4f18-b32d-cfa8236be76d",
   "metadata": {},
   "outputs": [],
   "source": [
    "data_cleaned.to_csv(\"cleaned_pedestrian_data.csv\", index=False)"
   ]
  },
  {
   "cell_type": "markdown",
   "id": "20265895-9992-4ca2-98fb-52f4288a629b",
   "metadata": {},
   "source": [
    "- Saves the cleaned DataFrame as a new CSV file without including the index."
   ]
  },
  {
   "cell_type": "markdown",
   "id": "50887290-b98a-4bbc-b99e-19863cea1dae",
   "metadata": {},
   "source": [
    "### 2. Confirmation Message"
   ]
  },
  {
   "cell_type": "code",
   "execution_count": null,
   "id": "d3243035-0b28-47f5-a6ba-93c6901b9ea8",
   "metadata": {},
   "outputs": [],
   "source": [
    "print(\"Cleaned dataset saved as 'cleaned_pedestrian_data.csv'\")"
   ]
  },
  {
   "cell_type": "markdown",
   "id": "3629b136-9a3b-4d7d-ab95-dc0e7eabea36",
   "metadata": {},
   "source": [
    "- Confirms that the dataset has been saved successfully."
   ]
  },
  {
   "cell_type": "markdown",
   "id": "5b842011-79a1-4b86-a308-7853b72f79de",
   "metadata": {},
   "source": [
    " # **Conclusion**"
   ]
  },
  {
   "cell_type": "markdown",
   "id": "94739035-631e-4d93-8d15-82e4b1668e18",
   "metadata": {},
   "source": [
    "In this tutorial, we covered how to:\n",
    "\n",
    "- Load a dataset using Pandas.\n",
    "- Handle missing values.\n",
    "- Detect and handle outliers using the IQR method.\n",
    "- Generate summary statistics.\n",
    "  \n",
    "By following these steps, you can clean and prepare your dataset for analysis. Feel free to expand on this tutorial by adding more advanced data processing techniques.\n",
    "\n"
   ]
  },
  {
   "cell_type": "markdown",
   "id": "c5e49b82-d6db-44ac-b461-ea35a13dc88b",
   "metadata": {},
   "source": [
    "## Additional Resources\r\n",
    "\r\n",
    "- [UCI Machine Learning Repository - Pedestrians in Traffic Dataset](https://archive.ics.uci.edu/dataset/536/pedestrian+in+traffic+dataset)\r\n",
    "- [Pandas Documentation](https://pandas.pydata.org/pandas-docs/stable/)\r\n"
   ]
  },
  {
   "cell_type": "markdown",
   "id": "4582283f-2e35-4e8f-904f-0353d61ad928",
   "metadata": {},
   "source": [
    "## How to Use This Tutorial\n",
    "1. **Download the dataset:** Make sure you have access to the dataset from the UCI repository.\n",
    "2. **Run each code block** in a Jupyter Notebook or Python environment.\n",
    "3. **Clean your data** and perform any additional analysis as needed.\n"
   ]
  },
  {
   "cell_type": "markdown",
   "id": "1f9fad3a-756e-43fb-b60d-aa732bf0e9f8",
   "metadata": {},
   "source": [
    "## Next Steps\n",
    "You can expand this tutorial by applying:\n",
    "- Advanced imputation methods for missing data\n",
    "- Different techniques for handling outliers\n",
    "- Visualization of the cleaned dataset"
   ]
  },
  {
   "cell_type": "markdown",
   "id": "65cd733a-cee9-4119-9d0e-8320cbe1ea53",
   "metadata": {},
   "source": [
    "> # **Summary**"
   ]
  },
  {
   "cell_type": "markdown",
   "id": "502d5c14-fbdb-4a49-bd2e-1de64fd056e3",
   "metadata": {},
   "source": [
    "# Summary: Data Processing Techniques on Pedestrian Traffic Dataset\r\n",
    "\r\n",
    "This tutorial covers essential data processing techniques using the Pedestrian Traffic dataset from the UCI Machine Learning Repository.\r\n",
    "\r\n",
    "## Key Steps:\r\n",
    "\r\n",
    "- **Prerequisites**: Install the **pandas** library.\r\n",
    "- **Loading the Dataset**: Use `pd.read_csv()` to load and preview the dataset.\r\n",
    "- **Handling Missing Values**:\r\n",
    "  - Check for missing values with `isnull().sum()`.\r\n",
    "  - Options: Drop rows with `dropna()` or fill with mean/median.\r\n",
    "- **Handling Outliers**:\r\n",
    "  - Define a function to identify outliers using the IQR method.\r\n",
    "  - Display outlier bounds and count them; optionally remove outliers.\r\n",
    "- **Generating Summary Statistics**: Use `describe()` for statistical insights.\r\n",
    "- **Saving the Cleaned Dataset**: Save cleaned data as a CSV using `to_csv()`.\r\n",
    "\r\n",
    "## Conclusion:\r\n",
    "Users can effectively clean and prepare datasets for analysis, with opportunities to expand upon intro Pandas Documentation\r\n"
   ]
  }
 ],
 "metadata": {
  "kernelspec": {
   "display_name": "Python 3 (ipykernel)",
   "language": "python",
   "name": "python3"
  },
  "language_info": {
   "codemirror_mode": {
    "name": "ipython",
    "version": 3
   },
   "file_extension": ".py",
   "mimetype": "text/x-python",
   "name": "python",
   "nbconvert_exporter": "python",
   "pygments_lexer": "ipython3",
   "version": "3.12.4"
  }
 },
 "nbformat": 4,
 "nbformat_minor": 5
}
